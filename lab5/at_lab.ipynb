{
 "cells": [
  {
   "cell_type": "code",
   "execution_count": 2,
   "metadata": {},
   "outputs": [],
   "source": [
    "from pgmpy.models import BayesianNetwork\n",
    "\n",
    "from pgmpy.factors.discrete.CPD import TabularCPD"
   ]
  },
  {
   "cell_type": "code",
   "execution_count": 3,
   "metadata": {},
   "outputs": [],
   "source": [
    "game_model = BayesianNetwork(\n",
    "    [\n",
    "        (\"Card1\", \"Card2\"),\n",
    "        (\"Card1\", \"Round1\"),\n",
    "        (\"Card1\", \"Round3\"),\n",
    "        (\"Card2\", \"Round2\"),\n",
    "        (\"Round1\", \"Round2\"),\n",
    "        (\"Round2\", \"Round3\"),\n",
    "        (\"Round1\", \"Round3\")\n",
    "    ]\n",
    ")"
   ]
  },
  {
   "cell_type": "code",
   "execution_count": 16,
   "metadata": {},
   "outputs": [],
   "source": [
    "# as de frunza, regina de frunza, regina de inima, rege de frunza, rege de inima\n",
    "cpd_card1 = TabularCPD(\n",
    "    variable=\"Card1\", variable_card=5, values=[[0.2], [0.2], [0.2], [0.2], [0.2]]\n",
    ")\n",
    "cpd_card2 = TabularCPD(\n",
    "    variable=\"Card2\",\n",
    "    variable_card=5,\n",
    "    values=[\n",
    "        [0, 0.25, 0.25, 0.25, 0.25], [0.25, 0, 0.25, 0.25, 0.25],\n",
    "        [0.25, 0.25, 0, 0.25, 0.25], [0.25, 0.25, 0.25, 0, 0.25],\n",
    "        [0.25, 0.25, 0.25, 0.25, 0]],\n",
    "    evidence=[\"Card1\"],\n",
    "    evidence_card=[5],\n",
    ")\n",
    "# 1st value -> skip, 2nd -> bet\n",
    "cpd_round1= TabularCPD(\n",
    "    variable=\"Round1\",\n",
    "    variable_card=2,\n",
    "    values=[\n",
    "        [0.7, 0.5, 0.3, 0.15, 0], [0.3, 0.5, 0.7, 0.85, 1]],\n",
    "    evidence=[\"Card1\"],\n",
    "    evidence_card=[5],\n",
    ")\n",
    "# 1st value -> skip, 2nd -> bet, 3rd -> leave\n",
    "cpd_round2 = TabularCPD(\n",
    "    variable=\"Round2\",\n",
    "    variable_card=3,\n",
    "    values=[\n",
    "        # card(0) skip, bet ; card(1) skip, bet\n",
    "        #skip\n",
    "        [0.9, 0000, 0.7, 0000, 0.3, 0000, 0.15, 0000, 0.05, 0], \n",
    "        # bet\n",
    "        [0.1, 0.15, 0.3, 0.85, 0.7, 0.55, 0.85, 0.70, 0.95, 1],\n",
    "        # leave\n",
    "        [000, 0.85, 000, 0.15, 000, 0.45, 0000, 0.30, 0000, 0]],\n",
    "    evidence=[\"Card2\", \"Round1\"],\n",
    "    evidence_card=[5, 2],\n",
    ")\n",
    "# 1st value -> leave, 2nd -> bet\n",
    "# to revise!!\n",
    "cpd_round3 = TabularCPD(\n",
    "    variable=\"Round3\",\n",
    "    variable_card=2,\n",
    "    values=[\n",
    "        # leave\n",
    "        # card(0)\n",
    "        # round1skip->r2skip r2bet r2leave + round1bet->r2skip r2bet r2leave\n",
    "        [0, 1, 0, 0, 0, 0, \n",
    "         #card(1)\n",
    "         0, 0.7, 0, 0, 0, 0,\n",
    "         #card(2)\n",
    "         0, 0.4, 0, 0, 0, 0,\n",
    "         #card(3)\n",
    "         0, 0.2, 0, 0, 0, 0,\n",
    "         #card(4)\n",
    "         0, 0, 0, 0, 0, 0], \n",
    "        \n",
    "        # bet\n",
    "        # card(0)\n",
    "        # round1skip->r2skip r2bet r2leave + round1bet->r2skip r2bet r2leave\n",
    "        [0, 0, 0, 0, 0, 0,\n",
    "         #card(1)\n",
    "         0, 0.3, 0, 0, 0, 0,\n",
    "         #card(2)\n",
    "         0, 0.6, 0, 0, 0, 0,\n",
    "         #card(3)\n",
    "         0, 0.8, 0, 0, 0, 0,\n",
    "         #card(4)\n",
    "         0, 1, 0, 0, 0, 0]],\n",
    "    evidence=[\"Card1\", \"Round1\", \"Round2\"],\n",
    "    evidence_card=[5, 2, 3],\n",
    ")"
   ]
  },
  {
   "cell_type": "code",
   "execution_count": 17,
   "metadata": {},
   "outputs": [],
   "source": [
    "game_model.add_cpds(\n",
    "    cpd_card1, cpd_card2, cpd_round1, cpd_round2, cpd_round3\n",
    ")\n"
   ]
  },
  {
   "cell_type": "code",
   "execution_count": 18,
   "metadata": {},
   "outputs": [
    {
     "ename": "ValueError",
     "evalue": "Sum or integral of conditional probabilities for node Round3 is not equal to 1.",
     "output_type": "error",
     "traceback": [
      "\u001b[0;31m---------------------------------------------------------------------------\u001b[0m",
      "\u001b[0;31mValueError\u001b[0m                                Traceback (most recent call last)",
      "\u001b[1;32m/mnt/uni/COURSES/PMP/lab/lab5/at_lab.ipynb Cell 5\u001b[0m in \u001b[0;36m<cell line: 1>\u001b[0;34m()\u001b[0m\n\u001b[0;32m----> <a href='vscode-notebook-cell:/mnt/uni/COURSES/PMP/lab/lab5/at_lab.ipynb#W4sZmlsZQ%3D%3D?line=0'>1</a>\u001b[0m game_model\u001b[39m.\u001b[39;49mcheck_model()\n",
      "File \u001b[0;32m~/.local/lib/python3.9/site-packages/pgmpy/models/BayesianNetwork.py:423\u001b[0m, in \u001b[0;36mBayesianNetwork.check_model\u001b[0;34m(self)\u001b[0m\n\u001b[1;32m    421\u001b[0m \u001b[39m# Check if the values of the CPD sum to 1.\u001b[39;00m\n\u001b[1;32m    422\u001b[0m \u001b[39mif\u001b[39;00m \u001b[39mnot\u001b[39;00m cpd\u001b[39m.\u001b[39mis_valid_cpd():\n\u001b[0;32m--> 423\u001b[0m     \u001b[39mraise\u001b[39;00m \u001b[39mValueError\u001b[39;00m(\n\u001b[1;32m    424\u001b[0m         \u001b[39mf\u001b[39m\u001b[39m\"\u001b[39m\u001b[39mSum or integral of conditional probabilities for node \u001b[39m\u001b[39m{\u001b[39;00mnode\u001b[39m}\u001b[39;00m\u001b[39m is not equal to 1.\u001b[39m\u001b[39m\"\u001b[39m\n\u001b[1;32m    425\u001b[0m     )\n\u001b[1;32m    427\u001b[0m \u001b[39mif\u001b[39;00m \u001b[39mlen\u001b[39m(\u001b[39mset\u001b[39m(cpd\u001b[39m.\u001b[39mvariables) \u001b[39m-\u001b[39m \u001b[39mset\u001b[39m(cpd\u001b[39m.\u001b[39mstate_names\u001b[39m.\u001b[39mkeys())) \u001b[39m>\u001b[39m \u001b[39m0\u001b[39m:\n\u001b[1;32m    428\u001b[0m     \u001b[39mraise\u001b[39;00m \u001b[39mValueError\u001b[39;00m(\n\u001b[1;32m    429\u001b[0m         \u001b[39mf\u001b[39m\u001b[39m\"\u001b[39m\u001b[39mCPD for \u001b[39m\u001b[39m{\u001b[39;00mnode\u001b[39m}\u001b[39;00m\u001b[39m doesn\u001b[39m\u001b[39m'\u001b[39m\u001b[39mt have state names defined for all the variables.\u001b[39m\u001b[39m\"\u001b[39m\n\u001b[1;32m    430\u001b[0m     )\n",
      "\u001b[0;31mValueError\u001b[0m: Sum or integral of conditional probabilities for node Round3 is not equal to 1."
     ]
    }
   ],
   "source": [
    "game_model.check_model()\n"
   ]
  },
  {
   "cell_type": "code",
   "execution_count": 15,
   "metadata": {},
   "outputs": [
    {
     "name": "stdout",
     "output_type": "stream",
     "text": [
      "+-----------+-----------+-----------+-----+-----------+-----------+\n",
      "| Card1     | Card1(0)  | Card1(0)  | ... | Card1(4)  | Card1(4)  |\n",
      "+-----------+-----------+-----------+-----+-----------+-----------+\n",
      "| Round1    | Round1(0) | Round1(0) | ... | Round1(1) | Round1(1) |\n",
      "+-----------+-----------+-----------+-----+-----------+-----------+\n",
      "| Round2    | Round2(0) | Round2(1) | ... | Round2(1) | Round2(2) |\n",
      "+-----------+-----------+-----------+-----+-----------+-----------+\n",
      "| Round3(0) | 0.0       | 1.0       | ... | 0.0       | 0.0       |\n",
      "+-----------+-----------+-----------+-----+-----------+-----------+\n",
      "| Round3(1) | 0.0       | 0.0       | ... | 0.0       | 0.0       |\n",
      "+-----------+-----------+-----------+-----+-----------+-----------+\n"
     ]
    }
   ],
   "source": [
    "print(cpd_round3)"
   ]
  },
  {
   "cell_type": "code",
   "execution_count": null,
   "metadata": {},
   "outputs": [],
   "source": []
  }
 ],
 "metadata": {
  "kernelspec": {
   "display_name": "Python 3.9.2 64-bit",
   "language": "python",
   "name": "python3"
  },
  "language_info": {
   "codemirror_mode": {
    "name": "ipython",
    "version": 3
   },
   "file_extension": ".py",
   "mimetype": "text/x-python",
   "name": "python",
   "nbconvert_exporter": "python",
   "pygments_lexer": "ipython3",
   "version": "3.9.2"
  },
  "orig_nbformat": 4,
  "vscode": {
   "interpreter": {
    "hash": "916dbcbb3f70747c44a77c7bcd40155683ae19c65e1c03b4aa3499c5328201f1"
   }
  }
 },
 "nbformat": 4,
 "nbformat_minor": 2
}
