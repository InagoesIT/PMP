{
 "cells": [
  {
   "cell_type": "code",
   "execution_count": 135,
   "metadata": {},
   "outputs": [],
   "source": [
    "import matplotlib.pyplot as plt\n",
    "import numpy as np\n",
    "import pandas as pd\n",
    "import pymc3 as pm\n",
    "import arviz as az\n",
    "from scipy import stats"
   ]
  },
  {
   "cell_type": "code",
   "execution_count": 193,
   "metadata": {},
   "outputs": [],
   "source": [
    "# 1\n",
    "\n",
    "def generate_clients_nr():\n",
    "    clients_nr = stats.poisson.rvs(mu=20, size=10000)\n",
    "    clients_nr = [i for i in clients_nr if i != 0]\n",
    "    return clients_nr\n",
    "    \n",
    "def generate_requests(clients_nr):\n",
    "    requests = []\n",
    "    for nr in clients_nr:    \n",
    "        requests.append(np.array([abs(i) for i in stats.norm.rvs(1, 0.5, size=nr)]))\n",
    "    return requests\n",
    "\n",
    "def generate_cooks(clients_nr, alpha):\n",
    "    cooks = []\n",
    "    for nr in clients_nr:    \n",
    "        cooks.append(stats.expon.rvs(scale=1/alpha, size=nr))\n",
    "    return cooks"
   ]
  },
  {
   "cell_type": "code",
   "execution_count": 194,
   "metadata": {},
   "outputs": [],
   "source": [
    "alpha = 0.01\n",
    "clients_nr = generate_clients_nr()\n",
    "requests = generate_requests(clients_nr=clients_nr)\n",
    "cooks = generate_cooks(clients_nr=clients_nr, alpha=alpha)"
   ]
  },
  {
   "cell_type": "code",
   "execution_count": 195,
   "metadata": {},
   "outputs": [
    {
     "name": "stdout",
     "output_type": "stream",
     "text": [
      "The probability obtained with alpha = 0.01 is 0.13007286264941578\n",
      "The probability obtained with alpha = 0.035 is 0.3894352893713689\n",
      "The probability obtained with alpha = 0.060000000000000005 is 0.5679946802396382\n",
      "The probability obtained with alpha = 0.085 is 0.6953586070857989\n",
      "The probability obtained with alpha = 0.11000000000000001 is 0.7863735411010282\n",
      "The probability obtained with alpha = 0.135 is 0.8483487162724949\n",
      "The probability obtained with alpha = 0.16 is 0.8923430608976831\n",
      "The probability obtained with alpha = 0.185 is 0.9248137867881229\n",
      "The probability obtained with alpha = 0.186 is 0.9261570178955986\n",
      "The probability obtained with alpha = 0.187 is 0.9262448750953644\n",
      "The probability obtained with alpha = 0.188 is 0.9276865718172623\n",
      "The probability obtained with alpha = 0.189 is 0.9296827318405805\n",
      "The probability obtained with alpha = 0.19 is 0.9301491693952532\n",
      "The probability obtained with alpha = 0.191 is 0.9307842481138078\n",
      "The probability obtained with alpha = 0.192 is 0.9316212471492247\n",
      "The probability obtained with alpha = 0.193 is 0.9330720617306056\n",
      "The probability obtained with alpha = 0.194 is 0.9328277963229721\n",
      "The probability obtained with alpha = 0.195 is 0.9344893123983801\n",
      "The probability obtained with alpha = 0.196 is 0.9360789352300617\n",
      "The probability obtained with alpha = 0.197 is 0.9362133515274298\n",
      "The probability obtained with alpha = 0.198 is 0.9367129565259574\n",
      "The probability obtained with alpha = 0.199 is 0.9369333989015229\n",
      "The probability obtained with alpha = 0.2 is 0.9383584739091777\n",
      "The probability obtained with alpha = 0.201 is 0.939792115279344\n",
      "The probability obtained with alpha = 0.202 is 0.9406930736527273\n",
      "The probability obtained with alpha = 0.203 is 0.9412755276999071\n",
      "The probability obtained with alpha = 0.20400000000000001 is 0.9414499186133045\n",
      "The probability obtained with alpha = 0.20500000000000002 is 0.9429970731345604\n",
      "The probability obtained with alpha = 0.20600000000000002 is 0.9439296998248732\n",
      "The probability obtained with alpha = 0.20700000000000002 is 0.9431926276522526\n",
      "The probability obtained with alpha = 0.20800000000000002 is 0.9447358701923773\n",
      "The probability obtained with alpha = 0.20900000000000002 is 0.9467387817569386\n",
      "The probability obtained with alpha = 0.21000000000000002 is 0.9460954834931284\n",
      "The probability obtained with alpha = 0.21100000000000002 is 0.9471817675282178\n",
      "The probability obtained with alpha = 0.21200000000000002 is 0.947757163368689\n",
      "The probability obtained with alpha = 0.21300000000000002 is 0.9480925740765153\n",
      "The probability obtained with alpha = 0.21400000000000002 is 0.949807022528832\n",
      "The probability obtained with alpha = 0.21500000000000002 is 0.9503003751909659\n",
      "The probability obtained with alpha = 0.21600000000000003 is 0.9513925450106608\n",
      "\n",
      "-----Solution------\n",
      "The maximum alpha for getting the probability of serving all the clients less than in 15 min is: \n",
      "            0.21600000000000003 and the probability obtained is: 0.9503003751909659\n"
     ]
    }
   ],
   "source": [
    "# 2\n",
    "\n",
    "clients_serving_time_less = 0\n",
    "p = 0\n",
    "found = False\n",
    "max_alpha = alpha\n",
    "best_prob = 0\n",
    "\n",
    "while True:\n",
    "    for iteration in range(len(clients_nr)): \n",
    "        for client in range(clients_nr[iteration]): \n",
    "            if requests[iteration][client] + cooks[iteration][client] < 15:\n",
    "                clients_serving_time_less += 1\n",
    "        p = p + (clients_serving_time_less / clients_nr[iteration])\n",
    "        clients_serving_time_less = 0\n",
    "    # calculating the mean for the probability\n",
    "    p = p / len(clients_nr)\n",
    "    print(f\"The probability obtained with alpha = {alpha} is {p}\")\n",
    "    \n",
    "    # maximum alpha is found\n",
    "    if found and abs(p - 0.95) > 0.001:\n",
    "        print()\n",
    "        print(\"-----Solution------\")\n",
    "        print(f\"\"\"The maximum alpha for getting the probability of serving all the clients less than in 15 min is: \n",
    "            {alpha} and the probability obtained is: {best_prob}\"\"\")\n",
    "        break\n",
    "    \n",
    "    # a good alpha is found\n",
    "    if abs(p - 0.95) < 0.001:\n",
    "        found = True\n",
    "        max_alpha = alpha\n",
    "        best_prob = p\n",
    "\n",
    "    # take bigger steps if far from solution\n",
    "    if not found and abs(p - 0.95) > 0.04:\n",
    "        alpha += 0.025\n",
    "    else:\n",
    "        alpha += 0.001\n",
    "    p = 0\n",
    "    cooks = generate_cooks(clients_nr=clients_nr, alpha=alpha)\n",
    "    "
   ]
  },
  {
   "cell_type": "code",
   "execution_count": 199,
   "metadata": {},
   "outputs": [
    {
     "name": "stdout",
     "output_type": "stream",
     "text": [
      "The average cooking time obtained with alpha = 0.21500000000000002 is 4.6575091178489245\n"
     ]
    }
   ],
   "source": [
    "# 3\n",
    "# how much will the client wait to get the food\n",
    "\n",
    "alpha = max_alpha\n",
    "cooking_time = 0\n",
    "clients_nr = generate_clients_nr()\n",
    "cooks = generate_cooks(clients_nr=clients_nr, alpha=alpha)\n",
    "\n",
    "for iteration in range(len(clients_nr)): \n",
    "        cooking_time += sum(cooks[iteration])\n",
    "        \n",
    "cooking_time = cooking_time / sum(clients_nr)\n",
    "print(f\"The average cooking time obtained with alpha = {alpha} is {cooking_time}\")\n"
   ]
  },
  {
   "cell_type": "code",
   "execution_count": null,
   "metadata": {},
   "outputs": [],
   "source": []
  }
 ],
 "metadata": {
  "kernelspec": {
   "display_name": "Python 3.9.2 64-bit",
   "language": "python",
   "name": "python3"
  },
  "language_info": {
   "codemirror_mode": {
    "name": "ipython",
    "version": 3
   },
   "file_extension": ".py",
   "mimetype": "text/x-python",
   "name": "python",
   "nbconvert_exporter": "python",
   "pygments_lexer": "ipython3",
   "version": "3.9.2"
  },
  "orig_nbformat": 4,
  "vscode": {
   "interpreter": {
    "hash": "31f2aee4e71d21fbe5cf8b01ff0e069b9275f58929596ceb00d14d90e3e16cd6"
   }
  }
 },
 "nbformat": 4,
 "nbformat_minor": 2
}
