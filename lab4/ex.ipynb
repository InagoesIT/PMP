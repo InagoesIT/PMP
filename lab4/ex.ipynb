{
 "cells": [
  {
   "cell_type": "code",
   "execution_count": 3,
   "metadata": {},
   "outputs": [],
   "source": [
    "import matplotlib.pyplot as plt\n",
    "import numpy as np\n",
    "import pandas as pd\n",
    "import pymc3 as pm\n",
    "import arviz as az\n",
    "from scipy import stats"
   ]
  },
  {
   "cell_type": "code",
   "execution_count": 31,
   "metadata": {},
   "outputs": [
    {
     "name": "stderr",
     "output_type": "stream",
     "text": [
      "/home/ina/.local/lib/python3.9/site-packages/deprecat/classic.py:215: FutureWarning: In v4.0, pm.sample will return an `arviz.InferenceData` object instead of a `MultiTrace` by default. You can pass return_inferencedata=True or return_inferencedata=False to be safe and silence this warning.\n",
      "  return wrapped_(*args_, **kwargs_)\n",
      "Auto-assigning NUTS sampler...\n",
      "Initializing NUTS using jitter+adapt_diag...\n",
      "Multiprocess sampling (4 chains in 4 jobs)\n",
      "NUTS: [C, T]\n"
     ]
    },
    {
     "data": {
      "text/html": [
       "\n",
       "<style>\n",
       "    /* Turns off some styling */\n",
       "    progress {\n",
       "        /* gets rid of default border in Firefox and Opera. */\n",
       "        border: none;\n",
       "        /* Needs to be in here for Safari polyfill so background images work as expected. */\n",
       "        background-size: auto;\n",
       "    }\n",
       "    progress:not([value]), progress:not([value])::-webkit-progress-bar {\n",
       "        background: repeating-linear-gradient(45deg, #7e7e7e, #7e7e7e 10px, #5c5c5c 10px, #5c5c5c 20px);\n",
       "    }\n",
       "    .progress-bar-interrupted, .progress-bar-interrupted::-webkit-progress-bar {\n",
       "        background: #F44336;\n",
       "    }\n",
       "</style>\n"
      ],
      "text/plain": [
       "<IPython.core.display.HTML object>"
      ]
     },
     "metadata": {},
     "output_type": "display_data"
    },
    {
     "data": {
      "text/html": [
       "\n",
       "    <div>\n",
       "      <progress value='44000' class='' max='44000' style='width:300px; height:20px; vertical-align: middle;'></progress>\n",
       "      100.00% [44000/44000 00:15&lt;00:00 Sampling 4 chains, 209 divergences]\n",
       "    </div>\n",
       "    "
      ],
      "text/plain": [
       "<IPython.core.display.HTML object>"
      ]
     },
     "metadata": {},
     "output_type": "display_data"
    },
    {
     "name": "stderr",
     "output_type": "stream",
     "text": [
      "Sampling 4 chains for 1_000 tune and 10_000 draw iterations (4_000 + 40_000 draws total) took 15 seconds.\n",
      "There were 204 divergences after tuning. Increase `target_accept` or reparameterize.\n",
      "The acceptance probability does not match the target. It is 0.6779988001243493, but should be close to 0.8. Try to increase the number of tuning steps.\n",
      "There were 5 divergences after tuning. Increase `target_accept` or reparameterize.\n"
     ]
    }
   ],
   "source": [
    "model = pm.Model()\n",
    "alpha = 5\n",
    "\n",
    "n = stats.poisson.rvs(mu=20/60, size=1)[0]\n",
    "while n == 0:\n",
    "    n = stats.poisson.rvs(mu=20/60, size=1)[0]\n",
    "\n",
    "with model:\n",
    "    request = pm.Normal('T', sd=0.5, mu=1, shape=n)\n",
    "    cook = pm.Exponential('C', 1/alpha, shape=n)\n",
    "    trace = pm.sample(10000)"
   ]
  },
  {
   "cell_type": "code",
   "execution_count": 33,
   "metadata": {},
   "outputs": [
    {
     "name": "stdout",
     "output_type": "stream",
     "text": [
      "1\n",
      "0         [1.0182101647325503]\n",
      "1         [0.9656099804672044]\n",
      "2        [0.21854748920348221]\n",
      "3        [0.21854748920348221]\n",
      "4         [1.0845842045230951]\n",
      "                 ...          \n",
      "39995    [0.18267815234859786]\n",
      "39996     [0.6768363422149428]\n",
      "39997     [1.0457735582430234]\n",
      "39998     [1.3254026016062097]\n",
      "39999     [1.8763524269108771]\n",
      "Name: request, Length: 40000, dtype: object\n",
      "[0.9656099804672044]\n"
     ]
    }
   ],
   "source": [
    "print(n)\n",
    "dictionary = {\n",
    "              'request': trace['T'].tolist(),\n",
    "              'cook': trace['C'].tolist()\n",
    "              }\n",
    "df = pd.DataFrame(dictionary)\n",
    "print(df['request'])\n",
    "print(df['request'][1])"
   ]
  },
  {
   "cell_type": "code",
   "execution_count": null,
   "metadata": {},
   "outputs": [],
   "source": [
    "nr = 0\n",
    "p = 1\n",
    "for i in range(n):\n",
    "    for j in range(df.shape[0]):\n",
    "        if df[df['request'][i][j]] + df[df['cook'][i][j]] <= 15:\n",
    "            nr += 1\n",
    "    p = p * (nr / df.shape[0])\n",
    "    nr = 0\n",
    "\n",
    "p = p * "
   ]
  },
  {
   "cell_type": "code",
   "execution_count": 45,
   "metadata": {},
   "outputs": [],
   "source": [
    "n = stats.poisson.rvs(mu=20, size=1000)\n",
    "requests = []\n",
    "cooks = []\n",
    "\n",
    "for i in n:\n",
    "    if i == 0:\n",
    "        continue\n",
    "    \n",
    "    requests.append(stats.norm.rvs(60/1, 60/0.5, size=i))\n",
    "    cooks.append(stats.expon.rvs(1/alpha, size=i))"
   ]
  },
  {
   "cell_type": "code",
   "execution_count": null,
   "metadata": {},
   "outputs": [],
   "source": []
  }
 ],
 "metadata": {
  "kernelspec": {
   "display_name": "Python 3.9.2 64-bit",
   "language": "python",
   "name": "python3"
  },
  "language_info": {
   "codemirror_mode": {
    "name": "ipython",
    "version": 3
   },
   "file_extension": ".py",
   "mimetype": "text/x-python",
   "name": "python",
   "nbconvert_exporter": "python",
   "pygments_lexer": "ipython3",
   "version": "3.9.2"
  },
  "orig_nbformat": 4,
  "vscode": {
   "interpreter": {
    "hash": "31f2aee4e71d21fbe5cf8b01ff0e069b9275f58929596ceb00d14d90e3e16cd6"
   }
  }
 },
 "nbformat": 4,
 "nbformat_minor": 2
}
